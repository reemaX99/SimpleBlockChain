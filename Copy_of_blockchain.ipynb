{
  "nbformat": 4,
  "nbformat_minor": 0,
  "metadata": {
    "colab": {
      "provenance": [],
      "authorship_tag": "ABX9TyN8TyQSDmHtqmQOTMsxMWhg",
      "include_colab_link": true
    },
    "kernelspec": {
      "name": "python3",
      "display_name": "Python 3"
    },
    "language_info": {
      "name": "python"
    }
  },
  "cells": [
    {
      "cell_type": "markdown",
      "metadata": {
        "id": "view-in-github",
        "colab_type": "text"
      },
      "source": [
        "<a href=\"https://colab.research.google.com/github/reemaX99/SimpleBlockChain/blob/main/Copy_of_blockchain.ipynb\" target=\"_parent\"><img src=\"https://colab.research.google.com/assets/colab-badge.svg\" alt=\"Open In Colab\"/></a>"
      ]
    },
    {
      "cell_type": "code",
      "execution_count": null,
      "metadata": {
        "id": "cRsbWi-YTrTX"
      },
      "outputs": [],
      "source": [
        "# import some of libiary\n",
        "import datetime\n",
        "import hashlib"
      ]
    },
    {
      "cell_type": "code",
      "source": [
        "#Step 2 - Create a Block\n",
        "class Block:\n",
        "\n",
        "    blockNo = 0\n",
        " \n",
        "    data = None\n",
        "\n",
        "    next = None\n",
        "    hash = None\n",
        "    nonce = 0\n",
        "\n",
        "    previous_hash = 0x0\n",
        "\n",
        "    timestamp = datetime.datetime.now()\n",
        "\n",
        "    def __init__(self, data):\n",
        "        self.data = data\n",
        "\n",
        "\n",
        "    def hash(self):\n",
        "        h = hashlib.sha256()\n",
        "        h.update(\n",
        "        str(self.nonce).encode('utf-8') +\n",
        "        str(self.data).encode('utf-8') +\n",
        "        str(self.previous_hash).encode('utf-8') +\n",
        "        str(self.timestamp).encode('utf-8') +\n",
        "        str(self.blockNo).encode('utf-8')\n",
        "        )\n",
        "        #returns a hexademical string\n",
        "        return h.hexdigest()\n",
        "      \n",
        "        ## SHOW DEMO 2, change data \n",
        "\n",
        "    def __str__(self):\n",
        "        #print out the value of a block\n",
        "        return \"Block Hash: \" + str(self.hash()) + \"\\nBlockNo: \" + str(self.blockNo) + \"\\nBlock Data: \" + str(self.data) + \"\\nHashes: \" + str(self.nonce) + \"\\n--------------\"\n",
        "\n",
        "     "
      ],
      "metadata": {
        "id": "1If-1pD8T42p"
      },
      "execution_count": null,
      "outputs": []
    },
    {
      "cell_type": "code",
      "source": [
        "    ## Step 3 - Create a Blockchain\n",
        "class Blockchain:\n",
        "    \n",
        "      diff = 20\n",
        "      maxNonce = 2**32\n",
        "      target = 2 ** (256-diff)\n",
        "\n",
        "      block = Block(\"Genesis\")\n",
        "\n",
        "      head = block\n",
        "\n",
        "\n",
        "      def add(self, block):\n",
        "          \n",
        "\n",
        "          block.previous_hash = self.block.hash()\n",
        "          block.blockNo = self.block.blockNo + 1\n",
        "          self.block.next = block\n",
        "          self.block = self.block.next\n",
        "\n",
        "\n",
        "      def mine(self, block):\n",
        "          for n in range(self.maxNonce):\n",
        "              if int(block.hash(), 16) <= self.target:\n",
        "                  self.add(block)\n",
        "                  print(block)\n",
        "                  break\n",
        "              else:\n",
        "                  block.nonce += 1\n",
        "   "
      ],
      "metadata": {
        "id": "XP6xRsCySssU"
      },
      "execution_count": null,
      "outputs": []
    },
    {
      "cell_type": "code",
      "source": [
        "#last print\n",
        "blockchain = Blockchain()\n",
        "\n",
        "#mine 10 blocks\n",
        "for n in range(3):\n",
        "    blockchain.mine(Block(\"Block \" + str(n+1)))\n",
        "    \n",
        "#print out each block in the blockchain\n",
        "while blockchain.head != None:\n",
        "    print(blockchain.head)\n",
        "    blockchain.head = blockchain.head.next"
      ],
      "metadata": {
        "colab": {
          "base_uri": "https://localhost:8080/"
        },
        "id": "p0FQhvFhTO4Z",
        "outputId": "5e27b383-7fc9-4c33-ddb2-876e04d42ca9"
      },
      "execution_count": null,
      "outputs": [
        {
          "output_type": "stream",
          "name": "stdout",
          "text": [
            "Block Hash: d796c645060b2987a86701ae7b95f77ad98e51e918849e0ff622dbb9658035bd\n",
            "BlockNo: 1\n",
            "Block Data: Block 1\n",
            "Hashes: 540447\n",
            "--------------\n",
            "Block Hash: 70eef1b3ea7c4051cc16f27278c56d779b4680e3aca1494c2b8b5ca5ed8a289d\n",
            "BlockNo: 2\n",
            "Block Data: Block 2\n",
            "Hashes: 2238335\n",
            "--------------\n",
            "Block Hash: e3d59b259dbadb01879a0e0acf5b0d0f2eb6e17112a908445758d421d0d6097d\n",
            "BlockNo: 3\n",
            "Block Data: Block 3\n",
            "Hashes: 7551490\n",
            "--------------\n",
            "Block Hash: 3a48ac9e861861975b9ce8a68dc52899086841fa97069f15bc6dc4b5dc43abfb\n",
            "BlockNo: 0\n",
            "Block Data: Genesis\n",
            "Hashes: 0\n",
            "--------------\n",
            "Block Hash: d796c645060b2987a86701ae7b95f77ad98e51e918849e0ff622dbb9658035bd\n",
            "BlockNo: 1\n",
            "Block Data: Block 1\n",
            "Hashes: 540447\n",
            "--------------\n",
            "Block Hash: 70eef1b3ea7c4051cc16f27278c56d779b4680e3aca1494c2b8b5ca5ed8a289d\n",
            "BlockNo: 2\n",
            "Block Data: Block 2\n",
            "Hashes: 2238335\n",
            "--------------\n",
            "Block Hash: e3d59b259dbadb01879a0e0acf5b0d0f2eb6e17112a908445758d421d0d6097d\n",
            "BlockNo: 3\n",
            "Block Data: Block 3\n",
            "Hashes: 7551490\n",
            "--------------\n"
          ]
        }
      ]
    }
  ]
}